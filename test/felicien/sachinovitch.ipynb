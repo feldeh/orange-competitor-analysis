{
 "cells": [
  {
   "cell_type": "code",
   "execution_count": 72,
   "metadata": {},
   "outputs": [
    {
     "data": {
      "text/plain": [
       "<Response [200]>"
      ]
     },
     "execution_count": 72,
     "metadata": {},
     "output_type": "execute_result"
    }
   ],
   "source": [
    "from bs4 import BeautifulSoup\n",
    "import requests\n",
    "\n",
    "session = requests.Session()\n",
    "URL = 'https://www.proximus.be/en/id_cr_msub/personal/mobile/mobile-subscriptions.html'\n",
    "response = session.get(URL)\n",
    "response"
   ]
  },
  {
   "cell_type": "code",
   "execution_count": 73,
   "metadata": {},
   "outputs": [],
   "source": [
    "soup = BeautifulSoup(response.text, \"html.parser\")"
   ]
  },
  {
   "cell_type": "code",
   "execution_count": 74,
   "metadata": {},
   "outputs": [],
   "source": [
    "table_essential = soup.find(\"div\",{\"data-tms-id\":\"TMS_MOBILE_ESSENTIAL_TABLE\"})\n",
    "table_easy = soup.find(\"div\",{\"data-tms-id\":\"TMS_MOBILE_EASY_TABLE\"})\n",
    "table_maxi = soup.find(\"div\",{\"data-tms-id\":\"TMS_MOBILE_MAXI_TABLE\"})\n",
    "table_unlimited = soup.find(\"div\",{\"data-tms-id\":\"TMS_MOBILE_UNLIMITED_TABLE\"})"
   ]
  },
  {
   "cell_type": "code",
   "execution_count": 70,
   "metadata": {},
   "outputs": [
    {
     "name": "stdout",
     "output_type": "stream",
     "text": [
      "{'Data Allowance': '5 GB', 'Features': ['150 min & unlimited SMS'], 'Prices': '€16.99'}\n",
      "{'Data Allowance': '10 GB', 'Features': ['Unlimited calls & SMS', '5G up to 200 Mbps'], 'Prices': 'instead of€19.99€16.99'}\n",
      "{'Data Allowance': '50 GB', 'Features': ['Unlimited calls & SMS', '5G up to 500 Mbps'], 'Prices': 'instead of€29.99€19.99'}\n",
      "{'Data Allowance': 'All unlimited', 'Features': ['Unlimited data, calls & SMS', '5G up to 1 Gbps'], 'Prices': 'instead of€49.99€34.99'}\n"
     ]
    }
   ],
   "source": [
    "tables = [table_essential,table_easy,table_maxi,table_unlimited]\n",
    "for x in tables:\n",
    "    try:\n",
    "        data = {\n",
    "        \"Data Allowance\": x.find(\"div\", class_=\"rs-ctable-feature-title-big\").text.strip(),\n",
    "        \"Features\": [item.text.strip() for item in x.find_all(\"ul\", class_=\"rs-ctable-bulletlist\")[0].find_all(\"li\")],\n",
    "        \"Prices\": x.find(\"span\", class_=\"rs-price-promo\").get_text(strip=True)\n",
    "        }\n",
    "        print(data)\n",
    "    except:\n",
    "        data = {\n",
    "        \"Data Allowance\": x.find(\"div\", class_=\"rs-ctable-feature-title-big\").text.strip(),\n",
    "        \"Features\": [item.text.strip() for item in x.find_all(\"ul\", class_=\"rs-ctable-bulletlist\")[0].find_all(\"li\")],\n",
    "        \"Prices\": x.find(\"span\", class_=\"rs-price-sm\").get_text(strip=True)\n",
    "        }\n",
    "        print(data)\n",
    "\n"
   ]
  },
  {
   "cell_type": "code",
   "execution_count": 76,
   "metadata": {},
   "outputs": [],
   "source": [
    "data = {\n",
    "        \"Mobile_Essential\":{\n",
    "                \"Data Allowance\": table_essential.find(\"div\", class_=\"rs-ctable-feature-title-big\").text.strip(),\n",
    "                \"Features\": [item.text.strip() for item in table_essential.find_all(\"ul\", class_=\"rs-ctable-bulletlist\")[0].find_all(\"li\")],\n",
    "                \"Prices\": table_essential.find(\"span\", class_=\"rs-price-sm\").get_text(strip=True)},\n",
    "        \"Mobile_Easy\":{\n",
    "                \"Data Allowance\": table_easy.find(\"div\", class_=\"rs-ctable-feature-title-big\").text.strip(),\n",
    "                \"Features\": [item.text.strip() for item in table_easy.find_all(\"ul\", class_=\"rs-ctable-bulletlist\")[0].find_all(\"li\")],\n",
    "                \"Prices\": table_easy.find(\"span\", class_=\"rs-price-promo\").get_text(strip=True)},\n",
    "        \"Mobile_Maxi\":{\n",
    "                \"Data Allowance\": table_maxi.find(\"div\", class_=\"rs-ctable-feature-title-big\").text.strip(),\n",
    "                \"Features\": [item.text.strip() for item in table_maxi.find_all(\"ul\", class_=\"rs-ctable-bulletlist\")[0].find_all(\"li\")],\n",
    "                \"Prices\": table_maxi.find(\"span\", class_=\"rs-price-promo\").get_text(strip=True)},\n",
    "        \"Mobile_Unlimited\":{\n",
    "                \"Data Allowance\": table_unlimited.find(\"div\", class_=\"rs-ctable-feature-title-big\").text.strip(),\n",
    "                \"Features\": [item.text.strip() for item in table_unlimited.find_all(\"ul\", class_=\"rs-ctable-bulletlist\")[0].find_all(\"li\")],\n",
    "                \"Prices\": table_unlimited.find(\"span\", class_=\"rs-price-promo\").get_text(strip=True)}\n",
    "        }"
   ]
  },
  {
   "cell_type": "code",
   "execution_count": 77,
   "metadata": {},
   "outputs": [
    {
     "data": {
      "text/plain": [
       "{'Mobile_Essential': {'Data Allowance': '5 GB',\n",
       "  'Features': ['150 min & unlimited SMS'],\n",
       "  'Prices': '€16.99'},\n",
       " 'Mobile_Easy': {'Data Allowance': '10 GB',\n",
       "  'Features': ['Unlimited calls & SMS', '5G up to 200 Mbps'],\n",
       "  'Prices': 'instead of€19.99€16.99'},\n",
       " 'Mobile_Maxi': {'Data Allowance': '50 GB',\n",
       "  'Features': ['Unlimited calls & SMS', '5G up to 500 Mbps'],\n",
       "  'Prices': 'instead of€29.99€19.99'},\n",
       " 'Mobile_Unlimited': {'Data Allowance': 'All unlimited',\n",
       "  'Features': ['Unlimited data, calls & SMS', '5G up to 1 Gbps'],\n",
       "  'Prices': 'instead of€49.99€34.99'}}"
      ]
     },
     "execution_count": 77,
     "metadata": {},
     "output_type": "execute_result"
    }
   ],
   "source": [
    "data"
   ]
  }
 ],
 "metadata": {
  "kernelspec": {
   "display_name": "base",
   "language": "python",
   "name": "python3"
  },
  "language_info": {
   "codemirror_mode": {
    "name": "ipython",
    "version": 3
   },
   "file_extension": ".py",
   "mimetype": "text/x-python",
   "name": "python",
   "nbconvert_exporter": "python",
   "pygments_lexer": "ipython3",
   "version": "3.8.3"
  },
  "orig_nbformat": 4
 },
 "nbformat": 4,
 "nbformat_minor": 2
}
