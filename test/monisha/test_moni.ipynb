{
 "cells": [
  {
   "cell_type": "code",
   "execution_count": 15,
   "metadata": {},
   "outputs": [
    {
     "ename": "AttributeError",
     "evalue": "__enter__",
     "output_type": "error",
     "traceback": [
      "\u001b[0;31m---------------------------------------------------------------------------\u001b[0m",
      "\u001b[0;31mAttributeError\u001b[0m                            Traceback (most recent call last)",
      "Cell \u001b[0;32mIn[15], line 29\u001b[0m\n\u001b[1;32m     26\u001b[0m         extract_only_data(page)\n\u001b[1;32m     27\u001b[0m         browser\u001b[39m.\u001b[39mclose()\n\u001b[0;32m---> 29\u001b[0m main()\n",
      "Cell \u001b[0;32mIn[15], line 21\u001b[0m, in \u001b[0;36mmain\u001b[0;34m()\u001b[0m\n\u001b[1;32m     20\u001b[0m \u001b[39mdef\u001b[39;00m \u001b[39mmain\u001b[39m():    \n\u001b[0;32m---> 21\u001b[0m     \u001b[39mwith\u001b[39;00m async_playwright() \u001b[39mas\u001b[39;00m p:\n\u001b[1;32m     22\u001b[0m         browser \u001b[39m=\u001b[39m p\u001b[39m.\u001b[39mchromium\u001b[39m.\u001b[39mlaunch(headless\u001b[39m=\u001b[39m\u001b[39mFalse\u001b[39;00m)\n\u001b[1;32m     23\u001b[0m         page \u001b[39m=\u001b[39m browser\u001b[39m.\u001b[39mnew_page()\n",
      "\u001b[0;31mAttributeError\u001b[0m: __enter__"
     ]
    }
   ],
   "source": [
    "from playwright.async_api import async_playwright\n",
    "import json\n",
    "import re\n",
    "\n",
    "\n",
    "#from utils import save_to_json\n",
    "\n",
    "URL = 'https://mobilevikings.be/en/offer/only-data/'\n",
    "\n",
    "\n",
    "def extract_only_data(page):\n",
    "\n",
    "    only_data = {}\n",
    "    row = page.locator(f'span.callToAction__text').all_inner_texts()\n",
    "    cleaned_data = [part.split(' ')[0:4] for part in row]\n",
    "    print(cleaned_data)\n",
    "\n",
    "    return only_data\n",
    "\n",
    "def main():    \n",
    "    with async_playwright() as p:\n",
    "        browser = p.chromium.launch(headless=False)\n",
    "        page = browser.new_page()\n",
    "        page.goto(URL)\n",
    "        page.get_by_role(\"button\", name=\"Accept\").click()\n",
    "        extract_only_data(page)\n",
    "        browser.close()\n"
   ]
  }
 ],
 "metadata": {
  "kernelspec": {
   "display_name": "orange_env",
   "language": "python",
   "name": "python3"
  },
  "language_info": {
   "codemirror_mode": {
    "name": "ipython",
    "version": 3
   },
   "file_extension": ".py",
   "mimetype": "text/x-python",
   "name": "python",
   "nbconvert_exporter": "python",
   "pygments_lexer": "ipython3",
   "version": "3.9.5"
  },
  "orig_nbformat": 4
 },
 "nbformat": 4,
 "nbformat_minor": 2
}
